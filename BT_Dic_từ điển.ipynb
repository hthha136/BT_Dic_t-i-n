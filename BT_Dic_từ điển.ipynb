{
 "cells": [
  {
   "cell_type": "markdown",
   "id": "5a9a325d",
   "metadata": {},
   "source": [
    "Viết chương trình cho phép người dùng tra cứu các từ tiếng Anh sang tiếng Việt bằng cách nhập từ cần tra cứu. Danh sách các từ được lưu trữ sẵn trong một Dictionary."
   ]
  },
  {
   "cell_type": "code",
   "execution_count": 12,
   "id": "f65a6dc6",
   "metadata": {},
   "outputs": [
    {
     "name": "stdout",
     "output_type": "stream",
     "text": [
      "Từ cần dịch:lemon\n",
      "lemon : quả chanh\n"
     ]
    }
   ],
   "source": [
    "\n",
    "def tudien(data,word):\n",
    "    if word in data:\n",
    "        print(word,\":\",data[word])\n",
    "    else:\n",
    "        print('từ này không có trong từ điển')\n",
    "\n",
    "td = {'apple':'quả táo','orange':'quả cam','lemon':'quả chanh'}\n",
    "word = input('Từ cần dịch:')\n",
    "tudien(td,word)"
   ]
  }
 ],
 "metadata": {
  "kernelspec": {
   "display_name": "Python 3 (ipykernel)",
   "language": "python",
   "name": "python3"
  },
  "language_info": {
   "codemirror_mode": {
    "name": "ipython",
    "version": 3
   },
   "file_extension": ".py",
   "mimetype": "text/x-python",
   "name": "python",
   "nbconvert_exporter": "python",
   "pygments_lexer": "ipython3",
   "version": "3.10.4"
  }
 },
 "nbformat": 4,
 "nbformat_minor": 5
}
